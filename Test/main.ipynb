{
 "cells": [
  {
   "cell_type": "code",
   "execution_count": 1,
   "id": "bc3fd1e5",
   "metadata": {},
   "outputs": [
    {
     "name": "stdout",
     "output_type": "stream",
     "text": [
      "DUypSb_0h5iM68y6pGbyIsQWJIYPhCa04_KPdg4i1Nc=\n"
     ]
    }
   ],
   "source": [
    "from cryptography.fernet import Fernet\n",
    "print(Fernet.generate_key().decode())\n"
   ]
  },
  {
   "cell_type": "code",
   "execution_count": 17,
   "id": "8d725872",
   "metadata": {},
   "outputs": [
    {
     "name": "stderr",
     "output_type": "stream",
     "text": [
      "2025-04-23 20:11:38.962 Thread 'MainThread': missing ScriptRunContext! This warning can be ignored when running in bare mode.\n",
      "2025-04-23 20:11:38.966 Thread 'MainThread': missing ScriptRunContext! This warning can be ignored when running in bare mode.\n",
      "2025-04-23 20:11:38.967 Thread 'MainThread': missing ScriptRunContext! This warning can be ignored when running in bare mode.\n",
      "2025-04-23 20:11:38.968 Thread 'MainThread': missing ScriptRunContext! This warning can be ignored when running in bare mode.\n",
      "2025-04-23 20:11:38.969 Thread 'MainThread': missing ScriptRunContext! This warning can be ignored when running in bare mode.\n",
      "2025-04-23 20:11:38.969 Thread 'MainThread': missing ScriptRunContext! This warning can be ignored when running in bare mode.\n",
      "2025-04-23 20:11:38.970 Thread 'MainThread': missing ScriptRunContext! This warning can be ignored when running in bare mode.\n",
      "2025-04-23 20:11:38.972 Thread 'MainThread': missing ScriptRunContext! This warning can be ignored when running in bare mode.\n",
      "2025-04-23 20:11:38.973 Thread 'MainThread': missing ScriptRunContext! This warning can be ignored when running in bare mode.\n",
      "2025-04-23 20:11:38.973 Thread 'MainThread': missing ScriptRunContext! This warning can be ignored when running in bare mode.\n"
     ]
    }
   ],
   "source": [
    "import streamlit as st\n",
    "from cryptography.fernet import Fernet\n",
    "import os\n",
    "from dotenv import load_dotenv\n",
    "import smtplib\n",
    "from email.mime.multipart import MIMEMultipart\n",
    "from email.mime.base import MIMEBase\n",
    "from email import encoders\n",
    "import tempfile\n",
    "\n",
    "\n",
    "# Cargar variables de entorno\n",
    "load_dotenv()\n",
    "\n",
    "# Configuración\n",
    "UPLOAD_FOLDER = tempfile.gettempdir()\n",
    "os.makedirs(UPLOAD_FOLDER, exist_ok=True)\n",
    "\n",
    "\n",
    "key = os.getenv(\"ENCRYPTION_KEY\").encode()\n",
    "fernet = Fernet(key)\n",
    "\n",
    "def encrypt_file(file_bytes, filename):\n",
    "    encrypted = fernet.encrypt(file_bytes)\n",
    "    encrypted_path = os.path.join(UPLOAD_FOLDER, filename + \".enc\")\n",
    "    with open(encrypted_path, \"wb\") as f:\n",
    "        f.write(encrypted)\n",
    "    return encrypted_path\n",
    "\n",
    "def send_email_smtp(attachment_path):\n",
    "    from_addr = os.getenv(\"SMTP_USER\")\n",
    "    to_addr = os.getenv(\"SMTP_USER\")  # O cambia esto al destinatario deseado\n",
    "    password = os.getenv(\"SMTP_PASS\")\n",
    "\n",
    "    msg = MIMEMultipart()\n",
    "    msg['From'] = from_addr\n",
    "    msg['To'] = to_addr\n",
    "    msg['Subject'] = \"📧 Archivo Encriptado desde Streamlit\"\n",
    "\n",
    "    part = MIMEBase('application', \"octet-stream\")\n",
    "    with open(attachment_path, \"rb\") as file:\n",
    "        part.set_payload(file.read())\n",
    "\n",
    "    encoders.encode_base64(part)\n",
    "    part.add_header('Content-Disposition',\n",
    "                    f'attachment; filename=\"{os.path.basename(attachment_path)}\"')\n",
    "    msg.attach(part)\n",
    "\n",
    "    with smtplib.SMTP(os.getenv(\"SMTP_SERVER\"), int(os.getenv(\"SMTP_PORT\"))) as server:\n",
    "        server.starttls()\n",
    "        server.login(from_addr, password)\n",
    "        server.send_message(msg)\n",
    "\n",
    "# Streamlit UI\n",
    "st.set_page_config(page_title=\"Drop & Send\", page_icon=\"📨\")\n",
    "st.title(\"📂 Drop & Send\")\n",
    "st.markdown(\"Subí un archivo. Se encriptará y se enviará automáticamente por correo.\")\n",
    "\n",
    "uploaded_file = st.file_uploader(\"Arrastrá tu archivo aquí\", type=None)\n",
    "\n",
    "#os.environ[\"EMAIL_PORT\"] = \"587\"\n",
    "if uploaded_file is not None:\n",
    "    file_bytes = uploaded_file.read()\n",
    "    filename = uploaded_file.name\n",
    "\n",
    "    st.success(f\"Archivo recibido: `{filename}`\")\n",
    "\n",
    "    encrypted_path = encrypt_file(file_bytes, filename)\n",
    "    st.info(\"🔐 Archivo encriptado correctamente.\")\n",
    "\n",
    "    try:\n",
    "        send_email_smtp(encrypted_path)\n",
    "        st.success(\"📨 ¡Correo enviado exitosamente!\")\n",
    "    except Exception as e:\n",
    "        st.error(f\"Error al enviar el correo: {e}\")\n"
   ]
  },
  {
   "cell_type": "code",
   "execution_count": 19,
   "id": "4b400539",
   "metadata": {},
   "outputs": [
    {
     "data": {
      "text/plain": [
       "'587\\\\'"
      ]
     },
     "execution_count": 19,
     "metadata": {},
     "output_type": "execute_result"
    }
   ],
   "source": [
    "port = os.getenv(\"SMTP_PORT\")\n",
    "port\n"
   ]
  },
  {
   "cell_type": "code",
   "execution_count": 16,
   "id": "c5277c25",
   "metadata": {},
   "outputs": [
    {
     "name": "stdout",
     "output_type": "stream",
     "text": [
      "DUypSb_0h5iM68y6pGbyIsQWJIYPhCa04_KPdg4i1Nc=\n"
     ]
    }
   ],
   "source": [
    "print(os.getenv(\"ENCRYPTION_KEY\"))\n"
   ]
  },
  {
   "cell_type": "code",
   "execution_count": 20,
   "id": "0839a79d",
   "metadata": {},
   "outputs": [
    {
     "name": "stderr",
     "output_type": "stream",
     "text": [
      "2025-04-23 20:14:54.694 Thread 'MainThread': missing ScriptRunContext! This warning can be ignored when running in bare mode.\n",
      "2025-04-23 20:14:54.697 Thread 'MainThread': missing ScriptRunContext! This warning can be ignored when running in bare mode.\n",
      "2025-04-23 20:14:54.698 Thread 'MainThread': missing ScriptRunContext! This warning can be ignored when running in bare mode.\n",
      "2025-04-23 20:14:54.699 Thread 'MainThread': missing ScriptRunContext! This warning can be ignored when running in bare mode.\n",
      "2025-04-23 20:14:54.699 Thread 'MainThread': missing ScriptRunContext! This warning can be ignored when running in bare mode.\n",
      "2025-04-23 20:14:54.700 Thread 'MainThread': missing ScriptRunContext! This warning can be ignored when running in bare mode.\n",
      "2025-04-23 20:14:54.700 Thread 'MainThread': missing ScriptRunContext! This warning can be ignored when running in bare mode.\n",
      "2025-04-23 20:14:54.700 Thread 'MainThread': missing ScriptRunContext! This warning can be ignored when running in bare mode.\n",
      "2025-04-23 20:14:54.701 Thread 'MainThread': missing ScriptRunContext! This warning can be ignored when running in bare mode.\n",
      "2025-04-23 20:14:54.701 Thread 'MainThread': missing ScriptRunContext! This warning can be ignored when running in bare mode.\n"
     ]
    }
   ],
   "source": [
    "import streamlit as st\n",
    "from cryptography.fernet import Fernet\n",
    "import os\n",
    "from dotenv import load_dotenv\n",
    "import smtplib\n",
    "from email.mime.multipart import MIMEMultipart\n",
    "from email.mime.base import MIMEBase\n",
    "from email import encoders\n",
    "import tempfile\n",
    "\n",
    "\n",
    "# Cargar variables de entorno\n",
    "load_dotenv()\n",
    "\n",
    "# Configuración\n",
    "UPLOAD_FOLDER = tempfile.gettempdir()\n",
    "os.makedirs(UPLOAD_FOLDER, exist_ok=True)\n",
    "\n",
    "\n",
    "key = os.getenv(\"ENCRYPTION_KEY\").encode()\n",
    "fernet = Fernet(key)\n",
    "\n",
    "def encrypt_file(file_bytes, filename):\n",
    "    encrypted = fernet.encrypt(file_bytes)\n",
    "    encrypted_path = os.path.join(UPLOAD_FOLDER, filename + \".enc\")\n",
    "    with open(encrypted_path, \"wb\") as f:\n",
    "        f.write(encrypted)\n",
    "    return encrypted_path\n",
    "\n",
    "def send_email_smtp(attachment_path):\n",
    "    from_addr = os.getenv(\"SMTP_USER\")\n",
    "    to_addr = os.getenv(\"SMTP_USER\")  # O cambia esto al destinatario deseado\n",
    "    password = os.getenv(\"SMTP_PASS\")\n",
    "    #port = os.getenv(\"SMTP_PORT\")\n",
    "\n",
    "    smtp_port_str = os.getenv(\"SMTP_PORT\")\n",
    "    if smtp_port_str is None:\n",
    "        raise ValueError(\"SMTP_PORT no está definido.\")\n",
    "    try:\n",
    "        smtp_port = int(smtp_port_str.strip())\n",
    "    except ValueError:\n",
    "        raise ValueError(f\"SMTP_PORT no es un número válido: {smtp_port_str}\")\n",
    "\n",
    "\n",
    "\n",
    "    msg = MIMEMultipart()\n",
    "    msg['From'] = from_addr\n",
    "    msg['To'] = to_addr\n",
    "    msg['Subject'] = \"📧 Archivo Encriptado desde Streamlit\"\n",
    "\n",
    "    part = MIMEBase('application', \"octet-stream\")\n",
    "    with open(attachment_path, \"rb\") as file:\n",
    "        part.set_payload(file.read())\n",
    "\n",
    "    encoders.encode_base64(part)\n",
    "    part.add_header('Content-Disposition',\n",
    "                    f'attachment; filename=\"{os.path.basename(attachment_path)}\"')\n",
    "    msg.attach(part)\n",
    "\n",
    "    with smtplib.SMTP(os.getenv(\"SMTP_SERVER\"), int(smtp_port_str)) as server:\n",
    "        server.starttls()\n",
    "        server.login(from_addr, password)\n",
    "        server.send_message(msg)\n",
    "\n",
    "# Streamlit UI\n",
    "st.set_page_config(page_title=\"Drop & Send\", page_icon=\"📨\")\n",
    "st.title(\"📂 Drop & Send\")\n",
    "st.markdown(\"Subí un archivo. Se encriptará y se enviará automáticamente por correo.\")\n",
    "\n",
    "uploaded_file = st.file_uploader(\"Arrastrá tu archivo aquí\", type=None)\n",
    "\n",
    "#os.environ[\"EMAIL_PORT\"] = \"587\"\n",
    "if uploaded_file is not None:\n",
    "    file_bytes = uploaded_file.read()\n",
    "    filename = uploaded_file.name\n",
    "\n",
    "    st.success(f\"Archivo recibido: `{filename}`\")\n",
    "\n",
    "    encrypted_path = encrypt_file(file_bytes, filename)\n",
    "    st.info(\"🔐 Archivo encriptado correctamente.\")\n",
    "\n",
    "    try:\n",
    "        send_email_smtp(encrypted_path)\n",
    "        st.success(\"📨 ¡Correo enviado exitosamente!\")\n",
    "    except Exception as e:\n",
    "        st.error(f\"Error al enviar el correo: {e}\")"
   ]
  },
  {
   "cell_type": "code",
   "execution_count": 24,
   "id": "d809f827",
   "metadata": {},
   "outputs": [],
   "source": [
    "smtp_port_str = os.getenv(\"SMTP_PORT\")\n",
    "\n",
    "if smtp_port_str is None:\n",
    "    raise ValueError(\"SMTP_PORT no está definido.\")\n",
    "\n",
    "# Elimina cualquier barra invertida o espacio raro\n",
    "smtp_port_clean = smtp_port_str.strip().replace(\"\\\\\", \"\")\n",
    "\n",
    "try:\n",
    "    smtp_port = int(smtp_port_clean)\n",
    "except ValueError:\n",
    "    raise ValueError(f\"SMTP_PORT no es un número válido: {smtp_port_str}\")\n"
   ]
  },
  {
   "cell_type": "code",
   "execution_count": 25,
   "id": "003fff43",
   "metadata": {},
   "outputs": [],
   "source": [
    "smtp_port_str = os.getenv(\"SMTP_PORT\")\n",
    "\n",
    "if smtp_port_str is None:\n",
    "    raise ValueError(\"SMTP_PORT no está definido.\")\n",
    "\n",
    "# Elimina cualquier barra invertida o espacio raro\n",
    "smtp_port_clean = smtp_port_str.strip().replace(\"\\\\\", \"\")\n",
    "\n",
    "try:\n",
    "    smtp_port = int(smtp_port_clean)\n",
    "except ValueError:\n",
    "    raise ValueError(f\"SMTP_PORT no es un número válido: {smtp_port_str}\")\n"
   ]
  },
  {
   "cell_type": "code",
   "execution_count": 26,
   "id": "581c4b94",
   "metadata": {},
   "outputs": [
    {
     "data": {
      "text/plain": [
       "'587'"
      ]
     },
     "execution_count": 26,
     "metadata": {},
     "output_type": "execute_result"
    }
   ],
   "source": [
    "smtp_port_clean"
   ]
  },
  {
   "cell_type": "code",
   "execution_count": 23,
   "id": "c2231d80",
   "metadata": {},
   "outputs": [
    {
     "ename": "ValueError",
     "evalue": "SMTP_PORT no es un número válido: 587\\",
     "output_type": "error",
     "traceback": [
      "\u001b[0;31m---------------------------------------------------------------------------\u001b[0m",
      "\u001b[0;31mValueError\u001b[0m                                Traceback (most recent call last)",
      "Cell \u001b[0;32mIn[23], line 5\u001b[0m\n\u001b[1;32m      4\u001b[0m \u001b[38;5;28;01mtry\u001b[39;00m:\n\u001b[0;32m----> 5\u001b[0m     smtp_port \u001b[38;5;241m=\u001b[39m \u001b[38;5;28mint\u001b[39m(smtp_port_str\u001b[38;5;241m.\u001b[39mstrip())\n\u001b[1;32m      6\u001b[0m \u001b[38;5;28;01mexcept\u001b[39;00m \u001b[38;5;167;01mValueError\u001b[39;00m:\n",
      "\u001b[0;31mValueError\u001b[0m: invalid literal for int() with base 10: '587\\\\'",
      "\nDuring handling of the above exception, another exception occurred:\n",
      "\u001b[0;31mValueError\u001b[0m                                Traceback (most recent call last)",
      "Cell \u001b[0;32mIn[23], line 7\u001b[0m\n\u001b[1;32m      5\u001b[0m     smtp_port \u001b[38;5;241m=\u001b[39m \u001b[38;5;28mint\u001b[39m(smtp_port_str\u001b[38;5;241m.\u001b[39mstrip())\n\u001b[1;32m      6\u001b[0m \u001b[38;5;28;01mexcept\u001b[39;00m \u001b[38;5;167;01mValueError\u001b[39;00m:\n\u001b[0;32m----> 7\u001b[0m     \u001b[38;5;28;01mraise\u001b[39;00m \u001b[38;5;167;01mValueError\u001b[39;00m(\u001b[38;5;124mf\u001b[39m\u001b[38;5;124m\"\u001b[39m\u001b[38;5;124mSMTP_PORT no es un número válido: \u001b[39m\u001b[38;5;132;01m{\u001b[39;00msmtp_port_str\u001b[38;5;132;01m}\u001b[39;00m\u001b[38;5;124m\"\u001b[39m)\n",
      "\u001b[0;31mValueError\u001b[0m: SMTP_PORT no es un número válido: 587\\"
     ]
    }
   ],
   "source": [
    "smtp_port_str = os.getenv(\"SMTP_PORT\")\n",
    "if smtp_port_str is None:\n",
    "    raise ValueError(\"SMTP_PORT no está definido.\")\n",
    "try:\n",
    "    smtp_port = int(smtp_port_str.strip())\n",
    "except ValueError:\n",
    "    raise ValueError(f\"SMTP_PORT no es un número válido: {smtp_port_str}\")\n"
   ]
  },
  {
   "cell_type": "code",
   "execution_count": null,
   "id": "761ce0ae",
   "metadata": {},
   "outputs": [],
   "source": []
  }
 ],
 "metadata": {
  "kernelspec": {
   "display_name": "tecs6-arm",
   "language": "python",
   "name": "python3"
  },
  "language_info": {
   "codemirror_mode": {
    "name": "ipython",
    "version": 3
   },
   "file_extension": ".py",
   "mimetype": "text/x-python",
   "name": "python",
   "nbconvert_exporter": "python",
   "pygments_lexer": "ipython3",
   "version": "3.12.9"
  }
 },
 "nbformat": 4,
 "nbformat_minor": 5
}
