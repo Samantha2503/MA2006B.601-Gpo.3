{
 "cells": [
  {
   "cell_type": "code",
   "execution_count": 15,
   "id": "41c617d5",
   "metadata": {},
   "outputs": [
    {
     "name": "stdout",
     "output_type": "stream",
     "text": [
      "\u001b[31mERROR: Could not find a version that satisfies the requirement pywin32 (from versions: none)\u001b[0m\u001b[31m\n",
      "\u001b[0m\u001b[31mERROR: No matching distribution found for pywin32\u001b[0m\u001b[31m\n",
      "\u001b[0m"
     ]
    }
   ],
   "source": [
    "! pip install pywin32"
   ]
  },
  {
   "cell_type": "code",
   "execution_count": 16,
   "id": "bc3fd1e5",
   "metadata": {},
   "outputs": [
    {
     "name": "stdout",
     "output_type": "stream",
     "text": [
      "g26j0Au9av8K7H_7nFAHz9a8Hu6ebiB0tb7e0yj49FM=\n"
     ]
    }
   ],
   "source": [
    "from cryptography.fernet import Fernet\n",
    "print(Fernet.generate_key().decode())\n"
   ]
  },
  {
   "cell_type": "code",
   "execution_count": 1,
   "id": "8d725872",
   "metadata": {},
   "outputs": [
    {
     "ename": "NameError",
     "evalue": "name 'Users' is not defined",
     "output_type": "error",
     "traceback": [
      "\u001b[0;31m---------------------------------------------------------------------------\u001b[0m",
      "\u001b[0;31mNameError\u001b[0m                                 Traceback (most recent call last)",
      "Cell \u001b[0;32mIn[1], line 19\u001b[0m\n\u001b[1;32m     16\u001b[0m UPLOAD_FOLDER \u001b[38;5;241m=\u001b[39m tempfile\u001b[38;5;241m.\u001b[39mgettempdir()\n\u001b[1;32m     17\u001b[0m os\u001b[38;5;241m.\u001b[39mmakedirs(UPLOAD_FOLDER, exist_ok\u001b[38;5;241m=\u001b[39m\u001b[38;5;28;01mTrue\u001b[39;00m)\n\u001b[0;32m---> 19\u001b[0m Users\u001b[38;5;241m/\u001b[39msamanthabritoozuna\u001b[38;5;241m/\u001b[39manaconda3\u001b[38;5;241m/\u001b[39menvs\u001b[38;5;241m/\u001b[39mtecs6\u001b[38;5;241m-\u001b[39marm()\n\u001b[1;32m     21\u001b[0m key \u001b[38;5;241m=\u001b[39m os\u001b[38;5;241m.\u001b[39mgetenv(\u001b[38;5;124m\"\u001b[39m\u001b[38;5;124mENCRYPTION_KEY\u001b[39m\u001b[38;5;124m\"\u001b[39m)\u001b[38;5;241m.\u001b[39mencode()\n\u001b[1;32m     22\u001b[0m fernet \u001b[38;5;241m=\u001b[39m Fernet(key)\n",
      "\u001b[0;31mNameError\u001b[0m: name 'Users' is not defined"
     ]
    }
   ],
   "source": [
    "import streamlit as st\n",
    "from cryptography.fernet import Fernet\n",
    "import os\n",
    "from dotenv import load_dotenv\n",
    "import smtplib\n",
    "from email.mime.multipart import MIMEMultipart\n",
    "from email.mime.base import MIMEBase\n",
    "from email import encoders\n",
    "import tempfile\n",
    "\n",
    "\n",
    "# Cargar variables de entorno\n",
    "load_dotenv()\n",
    "\n",
    "# Configuración\n",
    "UPLOAD_FOLDER = tempfile.gettempdir()\n",
    "os.makedirs(UPLOAD_FOLDER, exist_ok=True)\n",
    "\n",
    "/Users/samanthabritoozuna/anaconda3/envs/tecs6-arm\n",
    "\n",
    "key = os.getenv(\"ENCRYPTION_KEY\").encode()\n",
    "fernet = Fernet(key)\n",
    "\n",
    "def encrypt_file(file_bytes, filename):\n",
    "    encrypted = fernet.encrypt(file_bytes)\n",
    "    encrypted_path = os.path.join(UPLOAD_FOLDER, filename + \".enc\")\n",
    "    with open(encrypted_path, \"wb\") as f:\n",
    "        f.write(encrypted)\n",
    "    return encrypted_path\n",
    "\n",
    "def send_email_smtp(attachment_path):\n",
    "    from_addr = os.getenv(\"SMTP_USER\")\n",
    "    to_addr = os.getenv(\"SMTP_USER\")  # O cambia esto al destinatario deseado\n",
    "    password = os.getenv(\"SMTP_PASS\")\n",
    "\n",
    "    msg = MIMEMultipart()\n",
    "    msg['From'] = from_addr\n",
    "    msg['To'] = to_addr\n",
    "    msg['Subject'] = \"📧 Archivo Encriptado desde Streamlit\"\n",
    "\n",
    "    part = MIMEBase('application', \"octet-stream\")\n",
    "    with open(attachment_path, \"rb\") as file:\n",
    "        part.set_payload(file.read())\n",
    "\n",
    "    encoders.encode_base64(part)\n",
    "    part.add_header('Content-Disposition',\n",
    "                    f'attachment; filename=\"{os.path.basename(attachment_path)}\"')\n",
    "    msg.attach(part)\n",
    "\n",
    "    with smtplib.SMTP(os.getenv(\"SMTP_SERVER\"), int(os.getenv(\"SMTP_PORT\"))) as server:\n",
    "        server.starttls()\n",
    "        server.login(from_addr, password)\n",
    "        server.send_message(msg)\n",
    "\n",
    "# Streamlit UI\n",
    "st.set_page_config(page_title=\"Drop & Send\", page_icon=\"📨\")\n",
    "st.title(\"📂 Drop & Send\")\n",
    "st.markdown(\"Subí un archivo. Se encriptará y se enviará automáticamente por correo.\")\n",
    "\n",
    "uploaded_file = st.file_uploader(\"Arrastrá tu archivo aquí\", type=None)\n",
    "\n",
    "if uploaded_file is not None:\n",
    "    file_bytes = uploaded_file.read()\n",
    "    filename = uploaded_file.name\n",
    "\n",
    "    st.success(f\"Archivo recibido: `{filename}`\")\n",
    "\n",
    "    encrypted_path = encrypt_file(file_bytes, filename)\n",
    "    st.info(\"🔐 Archivo encriptado correctamente.\")\n",
    "\n",
    "    try:\n",
    "        send_email_smtp(encrypted_path)\n",
    "        st.success(\"📨 ¡Correo enviado exitosamente!\")\n",
    "    except Exception as e:\n",
    "        st.error(f\"Error al enviar el correo: {e}\")\n"
   ]
  },
  {
   "cell_type": "code",
   "execution_count": 2,
   "id": "6c36f572",
   "metadata": {},
   "outputs": [
    {
     "name": "stdout",
     "output_type": "stream",
     "text": [
      "None\n"
     ]
    }
   ],
   "source": [
    "from dotenv import load_dotenv\n",
    "import os\n",
    "\n",
    "# Cargar variables desde .env\n",
    "load_dotenv()\n",
    "\n",
    "# Verificar que se carga correctamente\n",
    "ENCRYPTION_KEY = os.getenv(\"ENCRYPTION_KEY\")\n",
    "print(ENCRYPTION_KEY)\n"
   ]
  },
  {
   "cell_type": "code",
   "execution_count": 4,
   "id": "010d64f1",
   "metadata": {},
   "outputs": [
    {
     "name": "stdout",
     "output_type": "stream",
     "text": [
      "⚠️ No se encontró ENCRYPTION_KEY en el archivo .env\n"
     ]
    }
   ],
   "source": [
    "from dotenv import load_dotenv\n",
    "import os\n",
    "\n",
    "# Cargar las variables de entorno\n",
    "load_dotenv()\n",
    "\n",
    "# Verificar si se cargaron correctamente las variables\n",
    "ENCRYPTION_KEY = os.getenv(\"ENCRYPTION_KEY\")\n",
    "\n",
    "if ENCRYPTION_KEY is None:\n",
    "    print(\"⚠️ No se encontró ENCRYPTION_KEY en el archivo .env\")\n",
    "else:\n",
    "    print(f\"Clave cargada correctamente: {ENCRYPTION_KEY}\")\n"
   ]
  }
 ],
 "metadata": {
  "kernelspec": {
   "display_name": "tecs6-arm",
   "language": "python",
   "name": "python3"
  },
  "language_info": {
   "codemirror_mode": {
    "name": "ipython",
    "version": 3
   },
   "file_extension": ".py",
   "mimetype": "text/x-python",
   "name": "python",
   "nbconvert_exporter": "python",
   "pygments_lexer": "ipython3",
   "version": "3.12.9"
  }
 },
 "nbformat": 4,
 "nbformat_minor": 5
}
