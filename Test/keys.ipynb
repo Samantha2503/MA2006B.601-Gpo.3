{
 "cells": [
  {
   "cell_type": "code",
   "execution_count": 4,
   "id": "bfc895ca",
   "metadata": {},
   "outputs": [
    {
     "name": "stdout",
     "output_type": "stream",
     "text": [
      "Archivo .env creado en: /Users/samanthabritoozuna/Desktop/Test/key.env\n"
     ]
    }
   ],
   "source": [
    "\n",
    "# Definir el contenido del archivo .env\n",
    "env_content = \"\"\"\n",
    "ENCRYPTION_KEY=DUypSb_0h5iM68y6pGbyIsQWJIYPhCa04_KPdg4i1Nc=\n",
    "SMTP_USER=britozuna@hotmail.com\n",
    "SMTP_PASS=Sarahi25#\n",
    "SMTP_SERVER=smtp.office365.com\n",
    "SMTP_PORT=587\n",
    "\"\"\"\n",
    "\n",
    "# Especificar la ruta del archivo .env\n",
    "env_file_path = '/Users/samanthabritoozuna/Desktop/Test/key.env'\n",
    "\n",
    "# Crear y escribir en el archivo .env\n",
    "with open(env_file_path, 'w') as env_file:\n",
    "    env_file.write(env_content)\n",
    "\n",
    "print(f\"Archivo .env creado en: {env_file_path}\")"
   ]
  },
  {
   "cell_type": "code",
   "execution_count": null,
   "id": "995086cf",
   "metadata": {},
   "outputs": [],
   "source": [
    "SMTP_USER=tucorreo@gmail.com\n",
    "SMTP_PASS=tu_contraseña_de_aplicación\n",
    "SMTP_SERVER=smtp.gmail.com\n",
    "SMTP_PORT=587\n",
    "TO_EMAIL=destinatario@gmail.com\n"
   ]
  },
  {
   "cell_type": "code",
   "execution_count": null,
   "id": "930b91c9",
   "metadata": {},
   "outputs": [],
   "source": [
    "# Definir el contenido del archivo .env\n",
    "env_content = \"\"\"\n",
    "ENCRYPTION_KEY=DUypSb_0h5iM68y6pGbyIsQWJIYPhCa04_KPdg4i1Nc=\n",
    "SMTP_USER=britozuna@hotmail.com\n",
    "SMTP_PASS=12345\n",
    "SMTP_SERVER=smtp.office365.com\n",
    "SMTP_PORT=587\n",
    "\"\"\"\n",
    "\n",
    "# Especificar la ruta del archivo .env\n",
    "env_file_path = '/Users/samanthabritoozuna/Desktop/Test/key.env'\n",
    "\n",
    "# Crear y escribir en el archivo .env\n",
    "with open(env_file_path, 'w') as env_file:\n",
    "    env_file.write(env_content)\n",
    "\n",
    "print(f\"Archivo .env creado en: {env_file_path}\")"
   ]
  },
  {
   "cell_type": "code",
   "execution_count": null,
   "id": "b198f61a",
   "metadata": {},
   "outputs": [],
   "source": [
    "import os\n",
    "from dotenv import load_dotenv\n",
    "\n",
    "# Verifica que .env se está cargando\n",
    "dotenv_path = '/Users/samanthabritoozuna/Desktop/Test/key.env'  # Ajusta la ruta según tu proyecto\n",
    "\n",
    "# Cargar el archivo .env manualmente\n",
    "load_dotenv(dotenv_path)\n",
    "\n",
    "# Verificar la variable de entorno\n",
    "ENCRYPTION_KEY = os.getenv(\"ENCRYPTION_KEY\")\n",
    "\n",
    "if ENCRYPTION_KEY is None:\n",
    "    print(\"⚠️ No se encontró ENCRYPTION_KEY en el archivo .env\")\n",
    "else:\n",
    "    print(f\"Clave cargada correctamente: {ENCRYPTION_KEY}\")\n",
    "\n"
   ]
  }
 ],
 "metadata": {
  "kernelspec": {
   "display_name": "tecs6-arm",
   "language": "python",
   "name": "python3"
  },
  "language_info": {
   "codemirror_mode": {
    "name": "ipython",
    "version": 3
   },
   "file_extension": ".py",
   "mimetype": "text/x-python",
   "name": "python",
   "nbconvert_exporter": "python",
   "pygments_lexer": "ipython3",
   "version": "3.12.9"
  }
 },
 "nbformat": 4,
 "nbformat_minor": 5
}
