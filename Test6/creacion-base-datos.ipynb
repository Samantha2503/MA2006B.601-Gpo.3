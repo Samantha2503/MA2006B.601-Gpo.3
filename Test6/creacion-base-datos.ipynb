{
 "cells": [
  {
   "cell_type": "code",
   "execution_count": 1,
   "id": "9a22e04b",
   "metadata": {},
   "outputs": [],
   "source": [
    "import sqlite3\n"
   ]
  },
  {
   "cell_type": "code",
   "execution_count": 2,
   "id": "fbda9763",
   "metadata": {},
   "outputs": [],
   "source": [
    "conn = sqlite3.connect(\"firmas.db\")\n",
    "cursor = conn.cursor()"
   ]
  },
  {
   "cell_type": "code",
   "execution_count": 3,
   "id": "4ef36dd2",
   "metadata": {},
   "outputs": [
    {
     "name": "stdout",
     "output_type": "stream",
     "text": [
      "Base de datos 'firmas.db' creada correctamente con las tablas necesarias.\n"
     ]
    }
   ],
   "source": [
    "cursor.execute(\"\"\"\n",
    "CREATE TABLE IF NOT EXISTS usuarios (\n",
    "    id_usuario INTEGER PRIMARY KEY AUTOINCREMENT,\n",
    "    nombre TEXT NOT NULL,\n",
    "    email TEXT UNIQUE NOT NULL,\n",
    "    rol TEXT NOT NULL CHECK(rol IN ('admin', 'encargado', 'usuario')),\n",
    "    area TEXT NOT NULL,\n",
    "    contraseña TEXT NOT NULL,\n",
    "    fecha_registro DATETIME DEFAULT CURRENT_TIMESTAMP\n",
    ");\n",
    "\"\"\")\n",
    "\n",
    "# Tabla de interacciones\n",
    "cursor.execute(\"\"\"\n",
    "CREATE TABLE IF NOT EXISTS interacciones (\n",
    "    id_interaccion INTEGER PRIMARY KEY AUTOINCREMENT,\n",
    "    id_emisor INTEGER NOT NULL,\n",
    "    id_receptor INTEGER NOT NULL,\n",
    "    asunto TEXT,\n",
    "    mensaje TEXT,\n",
    "    archivo_adjunto TEXT,\n",
    "    area_destino TEXT NOT NULL,\n",
    "    fecha_envio DATETIME DEFAULT CURRENT_TIMESTAMP,\n",
    "    aceptado BOOLEAN,\n",
    "    fecha_respuesta DATETIME,\n",
    "    FOREIGN KEY(id_emisor) REFERENCES usuarios(id_usuario),\n",
    "    FOREIGN KEY(id_receptor) REFERENCES usuarios(id_usuario)\n",
    ");\n",
    "\"\"\")\n",
    "\n",
    "# Tabla de logs (auditoría)\n",
    "cursor.execute(\"\"\"\n",
    "CREATE TABLE IF NOT EXISTS logs (\n",
    "    id_log INTEGER PRIMARY KEY AUTOINCREMENT,\n",
    "    id_usuario INTEGER NOT NULL,\n",
    "    accion TEXT NOT NULL,\n",
    "    timestamp DATETIME DEFAULT CURRENT_TIMESTAMP,\n",
    "    detalles TEXT,\n",
    "    FOREIGN KEY(id_usuario) REFERENCES usuarios(id_usuario)\n",
    ");\n",
    "\"\"\")\n",
    "\n",
    "# Confirmar y cerrar\n",
    "conn.commit()\n",
    "conn.close()\n",
    "\n",
    "print(\"Base de datos 'firmas.db' creada correctamente con las tablas necesarias.\")"
   ]
  }
 ],
 "metadata": {
  "kernelspec": {
   "display_name": "Python 3",
   "language": "python",
   "name": "python3"
  },
  "language_info": {
   "codemirror_mode": {
    "name": "ipython",
    "version": 3
   },
   "file_extension": ".py",
   "mimetype": "text/x-python",
   "name": "python",
   "nbconvert_exporter": "python",
   "pygments_lexer": "ipython3",
   "version": "3.12.5"
  }
 },
 "nbformat": 4,
 "nbformat_minor": 5
}
