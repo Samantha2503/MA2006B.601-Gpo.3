{
 "cells": [
  {
   "cell_type": "code",
   "execution_count": null,
   "id": "06b5fd40",
   "metadata": {},
   "outputs": [],
   "source": [
    "import gnupg\n",
    "import os\n",
    "\n",
    "# Adjust this path to your GPG home directory if it's different\n",
    "# On Linux/macOS, it's usually ~/.gnupg\n",
    "# On Windows, it could be in %APPDATA%\\gnupg or similar\n",
    "gpg_home_dir = os.path.expanduser(\"~/.gnupg\")\n",
    "\n",
    "try:\n",
    "    gpg = gnupg.GPG(gnupghome=gpg_home_dir)\n",
    "    print(f\"GPG initialized using homedir: {gpg_home_dir}\")\n",
    "except Exception as e:\n",
    "    print(f\"Error initializing GPG: {e}\")\n",
    "    print(\"Please ensure GnuPG is installed and its executable is in your system's PATH.\")\n",
    "    # You might need to specify the gpgbinary path, e.g., gpg = gnupg.GPG(gpgbinary='/usr/local/bin/gpg')"
   ]
  }
 ],
 "metadata": {
  "language_info": {
   "name": "python"
  }
 },
 "nbformat": 4,
 "nbformat_minor": 5
}
